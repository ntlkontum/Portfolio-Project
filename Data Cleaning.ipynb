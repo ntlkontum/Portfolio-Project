{
 "cells": [
  {
   "cell_type": "code",
   "execution_count": 1,
   "id": "e69e318d-f52f-4c78-a2f4-be7c6ee47756",
   "metadata": {},
   "outputs": [],
   "source": [
    "# Import nessesarry libraries\n",
    "import pandas as pd\n",
    "import numpy as np"
   ]
  },
  {
   "cell_type": "markdown",
   "id": "2d823aef-176b-4f1b-b559-270ba31a1887",
   "metadata": {},
   "source": [
    "### Read CSV file"
   ]
  },
  {
   "cell_type": "markdown",
   "id": "1e33dfda-f225-450f-8639-e7d318888297",
   "metadata": {},
   "source": [
    "Link dataset: https://www.kaggle.com/datasets/linhttht/car-price-vn/data?select=data.csv"
   ]
  },
  {
   "cell_type": "code",
   "execution_count": 4,
   "id": "912c4cb7-c195-48d6-aec0-fe8fa3f0a65e",
   "metadata": {},
   "outputs": [],
   "source": [
    "# Read  file \n",
    "df = pd.read_csv('data_carVN_raw.csv',on_bad_lines='skip', encoding='UTF-8-SIG',na_values=['nan','-'])"
   ]
  },
  {
   "cell_type": "code",
   "execution_count": 5,
   "id": "f5fd5a6a-6bac-4708-95f4-2ed26f67f3ca",
   "metadata": {},
   "outputs": [
    {
     "data": {
      "text/html": [
       "<div>\n",
       "<style scoped>\n",
       "    .dataframe tbody tr th:only-of-type {\n",
       "        vertical-align: middle;\n",
       "    }\n",
       "\n",
       "    .dataframe tbody tr th {\n",
       "        vertical-align: top;\n",
       "    }\n",
       "\n",
       "    .dataframe thead th {\n",
       "        text-align: right;\n",
       "    }\n",
       "</style>\n",
       "<table border=\"1\" class=\"dataframe\">\n",
       "  <thead>\n",
       "    <tr style=\"text-align: right;\">\n",
       "      <th></th>\n",
       "      <th>car_name</th>\n",
       "      <th>year</th>\n",
       "      <th>price</th>\n",
       "      <th>assemble_place</th>\n",
       "      <th>series</th>\n",
       "      <th>driven kms</th>\n",
       "      <th>num_of_door</th>\n",
       "      <th>num_of_seat</th>\n",
       "      <th>engine_type</th>\n",
       "      <th>transmission</th>\n",
       "      <th>url</th>\n",
       "    </tr>\n",
       "  </thead>\n",
       "  <tbody>\n",
       "    <tr>\n",
       "      <th>0</th>\n",
       "      <td>LandRover Range Rover HSE 3.0</td>\n",
       "      <td>2015.0</td>\n",
       "      <td>2 Tỷ 700 Triệu</td>\n",
       "      <td>Nhập khẩu</td>\n",
       "      <td>SUV</td>\n",
       "      <td>65000.0</td>\n",
       "      <td>5.0</td>\n",
       "      <td>5.0</td>\n",
       "      <td>Xăng</td>\n",
       "      <td>Số tự động</td>\n",
       "      <td>https://bonbanh.com/xe-landrover-range_rover-h...</td>\n",
       "    </tr>\n",
       "    <tr>\n",
       "      <th>1</th>\n",
       "      <td>Mitsubishi Outlander 2.0 CVT Premium</td>\n",
       "      <td>2018.0</td>\n",
       "      <td>666 Triệu</td>\n",
       "      <td>Lắp ráp trong nước</td>\n",
       "      <td>SUV</td>\n",
       "      <td>50000.0</td>\n",
       "      <td>5.0</td>\n",
       "      <td>7.0</td>\n",
       "      <td>Xăng</td>\n",
       "      <td>Số tự động</td>\n",
       "      <td>https://bonbanh.com/xe-mitsubishi-outlander-2....</td>\n",
       "    </tr>\n",
       "    <tr>\n",
       "      <th>2</th>\n",
       "      <td>Mazda 3 1.5L Luxury</td>\n",
       "      <td>2019.0</td>\n",
       "      <td>490 Triệu</td>\n",
       "      <td>Lắp ráp trong nước</td>\n",
       "      <td>Sedan</td>\n",
       "      <td>51000.0</td>\n",
       "      <td>4.0</td>\n",
       "      <td>5.0</td>\n",
       "      <td>Xăng</td>\n",
       "      <td>Số tự động</td>\n",
       "      <td>https://bonbanh.com/xe-mazda-3-1.5l-luxury-201...</td>\n",
       "    </tr>\n",
       "  </tbody>\n",
       "</table>\n",
       "</div>"
      ],
      "text/plain": [
       "                                car_name    year            price  \\\n",
       "0          LandRover Range Rover HSE 3.0  2015.0   2 Tỷ 700 Triệu   \n",
       "1   Mitsubishi Outlander 2.0 CVT Premium  2018.0        666 Triệu   \n",
       "2                    Mazda 3 1.5L Luxury  2019.0        490 Triệu   \n",
       "\n",
       "       assemble_place series  driven kms  num_of_door  num_of_seat  \\\n",
       "0           Nhập khẩu    SUV     65000.0          5.0          5.0   \n",
       "1  Lắp ráp trong nước    SUV     50000.0          5.0          7.0   \n",
       "2  Lắp ráp trong nước  Sedan     51000.0          4.0          5.0   \n",
       "\n",
       "  engine_type transmission                                                url  \n",
       "0        Xăng   Số tự động  https://bonbanh.com/xe-landrover-range_rover-h...  \n",
       "1        Xăng   Số tự động  https://bonbanh.com/xe-mitsubishi-outlander-2....  \n",
       "2        Xăng   Số tự động  https://bonbanh.com/xe-mazda-3-1.5l-luxury-201...  "
      ]
     },
     "execution_count": 5,
     "metadata": {},
     "output_type": "execute_result"
    }
   ],
   "source": [
    "df.head(3)"
   ]
  },
  {
   "cell_type": "code",
   "execution_count": 6,
   "id": "0aad9fe0-7bff-4a48-a495-cef7a5233b9c",
   "metadata": {},
   "outputs": [
    {
     "data": {
      "text/plain": [
       "RangeIndex(start=0, stop=27484, step=1)"
      ]
     },
     "execution_count": 6,
     "metadata": {},
     "output_type": "execute_result"
    }
   ],
   "source": [
    "df.index"
   ]
  },
  {
   "cell_type": "markdown",
   "id": "7bdf9efb-8ad3-4405-94fd-a4e95eaa0af9",
   "metadata": {},
   "source": [
    "DataFrame starts from 0, ends before 27484, with a step size of 1"
   ]
  },
  {
   "cell_type": "markdown",
   "id": "58090b21-0f51-4280-bd51-07e6165050fb",
   "metadata": {},
   "source": [
    "### Drop unnecessary column ('url' column)"
   ]
  },
  {
   "cell_type": "code",
   "execution_count": 9,
   "id": "b958d9da-ff03-4df6-9bc2-160d0e05592b",
   "metadata": {},
   "outputs": [],
   "source": [
    "df = df.drop(['url'],axis = 1)"
   ]
  },
  {
   "cell_type": "code",
   "execution_count": 10,
   "id": "ca2c7ebc-6ac0-48b5-9ff6-ba03f7a38dae",
   "metadata": {},
   "outputs": [
    {
     "data": {
      "text/html": [
       "<div>\n",
       "<style scoped>\n",
       "    .dataframe tbody tr th:only-of-type {\n",
       "        vertical-align: middle;\n",
       "    }\n",
       "\n",
       "    .dataframe tbody tr th {\n",
       "        vertical-align: top;\n",
       "    }\n",
       "\n",
       "    .dataframe thead th {\n",
       "        text-align: right;\n",
       "    }\n",
       "</style>\n",
       "<table border=\"1\" class=\"dataframe\">\n",
       "  <thead>\n",
       "    <tr style=\"text-align: right;\">\n",
       "      <th></th>\n",
       "      <th>car_name</th>\n",
       "      <th>year</th>\n",
       "      <th>price</th>\n",
       "      <th>assemble_place</th>\n",
       "      <th>series</th>\n",
       "      <th>driven kms</th>\n",
       "      <th>num_of_door</th>\n",
       "      <th>num_of_seat</th>\n",
       "      <th>engine_type</th>\n",
       "      <th>transmission</th>\n",
       "    </tr>\n",
       "  </thead>\n",
       "  <tbody>\n",
       "    <tr>\n",
       "      <th>0</th>\n",
       "      <td>LandRover Range Rover HSE 3.0</td>\n",
       "      <td>2015.0</td>\n",
       "      <td>2 Tỷ 700 Triệu</td>\n",
       "      <td>Nhập khẩu</td>\n",
       "      <td>SUV</td>\n",
       "      <td>65000.0</td>\n",
       "      <td>5.0</td>\n",
       "      <td>5.0</td>\n",
       "      <td>Xăng</td>\n",
       "      <td>Số tự động</td>\n",
       "    </tr>\n",
       "    <tr>\n",
       "      <th>1</th>\n",
       "      <td>Mitsubishi Outlander 2.0 CVT Premium</td>\n",
       "      <td>2018.0</td>\n",
       "      <td>666 Triệu</td>\n",
       "      <td>Lắp ráp trong nước</td>\n",
       "      <td>SUV</td>\n",
       "      <td>50000.0</td>\n",
       "      <td>5.0</td>\n",
       "      <td>7.0</td>\n",
       "      <td>Xăng</td>\n",
       "      <td>Số tự động</td>\n",
       "    </tr>\n",
       "    <tr>\n",
       "      <th>2</th>\n",
       "      <td>Mazda 3 1.5L Luxury</td>\n",
       "      <td>2019.0</td>\n",
       "      <td>490 Triệu</td>\n",
       "      <td>Lắp ráp trong nước</td>\n",
       "      <td>Sedan</td>\n",
       "      <td>51000.0</td>\n",
       "      <td>4.0</td>\n",
       "      <td>5.0</td>\n",
       "      <td>Xăng</td>\n",
       "      <td>Số tự động</td>\n",
       "    </tr>\n",
       "  </tbody>\n",
       "</table>\n",
       "</div>"
      ],
      "text/plain": [
       "                                car_name    year            price  \\\n",
       "0          LandRover Range Rover HSE 3.0  2015.0   2 Tỷ 700 Triệu   \n",
       "1   Mitsubishi Outlander 2.0 CVT Premium  2018.0        666 Triệu   \n",
       "2                    Mazda 3 1.5L Luxury  2019.0        490 Triệu   \n",
       "\n",
       "       assemble_place series  driven kms  num_of_door  num_of_seat  \\\n",
       "0           Nhập khẩu    SUV     65000.0          5.0          5.0   \n",
       "1  Lắp ráp trong nước    SUV     50000.0          5.0          7.0   \n",
       "2  Lắp ráp trong nước  Sedan     51000.0          4.0          5.0   \n",
       "\n",
       "  engine_type transmission  \n",
       "0        Xăng   Số tự động  \n",
       "1        Xăng   Số tự động  \n",
       "2        Xăng   Số tự động  "
      ]
     },
     "execution_count": 10,
     "metadata": {},
     "output_type": "execute_result"
    }
   ],
   "source": [
    "df.head(3)"
   ]
  },
  {
   "cell_type": "markdown",
   "id": "55633f9f-8aae-473d-89b3-3fadca5524a9",
   "metadata": {},
   "source": [
    "### Drop missing values rows"
   ]
  },
  {
   "cell_type": "code",
   "execution_count": 12,
   "id": "331be174-18ac-4ba1-b589-3652b25a7cd6",
   "metadata": {},
   "outputs": [
    {
     "data": {
      "text/plain": [
       "car_name            0\n",
       "year              803\n",
       "price             803\n",
       "assemble_place    803\n",
       "series            803\n",
       "driven kms        803\n",
       "num_of_door       803\n",
       "num_of_seat       803\n",
       "engine_type       807\n",
       "transmission      806\n",
       "dtype: int64"
      ]
     },
     "execution_count": 12,
     "metadata": {},
     "output_type": "execute_result"
    }
   ],
   "source": [
    "df.isna().sum()"
   ]
  },
  {
   "cell_type": "markdown",
   "id": "299a5204-c3b8-49f1-9de3-66bbeac456df",
   "metadata": {},
   "source": [
    "- Columns: *year*, *price*, *assemble_place*, *series*, *driven kms*, *num_of_door* each have 803 missing values\n",
    "- Column *engine_type* has 807 missing values\n",
    "- Column *transmission* has 806 missing values"
   ]
  },
  {
   "cell_type": "code",
   "execution_count": 14,
   "id": "bf96608d-e227-46d9-8386-ffedf5eabc04",
   "metadata": {},
   "outputs": [],
   "source": [
    "# Drop missing values rows\n",
    "drop_fields = ['year','price','assemble_place','series','driven kms','num_of_door','num_of_seat','engine_type','transmission']\n",
    "df = df.dropna(subset=drop_fields)"
   ]
  },
  {
   "cell_type": "code",
   "execution_count": 15,
   "id": "48edd25d-7225-48f7-822c-ca5b793fde60",
   "metadata": {},
   "outputs": [
    {
     "data": {
      "text/plain": [
       "car_name          0\n",
       "year              0\n",
       "price             0\n",
       "assemble_place    0\n",
       "series            0\n",
       "driven kms        0\n",
       "num_of_door       0\n",
       "num_of_seat       0\n",
       "engine_type       0\n",
       "transmission      0\n",
       "dtype: int64"
      ]
     },
     "execution_count": 15,
     "metadata": {},
     "output_type": "execute_result"
    }
   ],
   "source": [
    "# Check missing values again\n",
    "df.isna().sum()"
   ]
  },
  {
   "cell_type": "markdown",
   "id": "644b9d53-3bdf-48c2-b9dd-f35ac36353bd",
   "metadata": {},
   "source": [
    "There are no missing values with new DataFrame(26676 rows x 10 cols)"
   ]
  },
  {
   "cell_type": "markdown",
   "id": "dc594a0d-eda0-4ab9-a8cf-1fba30322779",
   "metadata": {},
   "source": [
    "### Drop duplicated rows"
   ]
  },
  {
   "cell_type": "code",
   "execution_count": 18,
   "id": "d6072472-dbf9-43aa-9de2-fec22925ff7a",
   "metadata": {},
   "outputs": [],
   "source": [
    "df.drop_duplicates(keep=\"first\",inplace= True )"
   ]
  },
  {
   "cell_type": "code",
   "execution_count": 19,
   "id": "f42e4646-a0b7-4a57-894f-3f1a74427fff",
   "metadata": {},
   "outputs": [
    {
     "data": {
      "text/plain": [
       "Index([    0,     1,     2,     3,     4,     5,     6,     7,     8,     9,\n",
       "       ...\n",
       "       27421, 27422, 27423, 27424, 27425, 27426, 27427, 27428, 27429, 27430],\n",
       "      dtype='int64', length=23084)"
      ]
     },
     "execution_count": 19,
     "metadata": {},
     "output_type": "execute_result"
    }
   ],
   "source": [
    "df.index"
   ]
  },
  {
   "cell_type": "markdown",
   "id": "265ed6af-8100-44b6-a822-826dc8d92cae",
   "metadata": {},
   "source": [
    "New DataFrame with 23084 rows x 10 cols"
   ]
  },
  {
   "cell_type": "markdown",
   "id": "25139b2e-c2a4-4b06-a4ca-49fccb6fb666",
   "metadata": {},
   "source": [
    "### Data Transformation"
   ]
  },
  {
   "cell_type": "markdown",
   "id": "183445b9-85e2-494e-b490-bb0cff81d2a8",
   "metadata": {},
   "source": [
    "Transforming categorical values from Vietnamese to English in columns:\n",
    "- transmission\n",
    "- engine_type\n",
    "- assemble_place"
   ]
  },
  {
   "cell_type": "code",
   "execution_count": 23,
   "id": "c8d6d3d4-fe78-4f7d-8192-b37137c1eebe",
   "metadata": {},
   "outputs": [
    {
     "data": {
      "text/plain": [
       "array(['Số tự động', 'Số tay'], dtype=object)"
      ]
     },
     "execution_count": 23,
     "metadata": {},
     "output_type": "execute_result"
    }
   ],
   "source": [
    "df['transmission'].unique()"
   ]
  },
  {
   "cell_type": "code",
   "execution_count": 24,
   "id": "f2d14722-a5bb-49d4-aa06-8afc9fb79493",
   "metadata": {},
   "outputs": [
    {
     "data": {
      "text/plain": [
       "array(['Xăng', 'Dầu', 'Hybrid', 'Điện'], dtype=object)"
      ]
     },
     "execution_count": 24,
     "metadata": {},
     "output_type": "execute_result"
    }
   ],
   "source": [
    "df['engine_type'].unique()"
   ]
  },
  {
   "cell_type": "code",
   "execution_count": 25,
   "id": "75142a37-f608-4291-93df-ac0d0b3b5053",
   "metadata": {},
   "outputs": [
    {
     "data": {
      "text/plain": [
       "array(['Nhập khẩu', 'Lắp ráp trong nước'], dtype=object)"
      ]
     },
     "execution_count": 25,
     "metadata": {},
     "output_type": "execute_result"
    }
   ],
   "source": [
    "df['assemble_place'].unique()"
   ]
  },
  {
   "cell_type": "code",
   "execution_count": 26,
   "id": "85f0d6cb-1194-4db8-bfac-2e1ed7b35f34",
   "metadata": {},
   "outputs": [],
   "source": [
    "df['transmission'] = df['transmission'].replace({'Số tay': 'Manual','Số tự động': 'Automatic'})\n",
    "df['assemble_place'] = df['assemble_place'].replace({'Nhập khẩu': 'Imported','Lắp ráp trong nước': 'Locally assembled'})\n",
    "df['engine_type'] = df['engine_type'].replace({'Xăng': 'Petrol','Dầu': 'Diesel','Hybrid': 'Hybrid','điện': 'Electric' })"
   ]
  },
  {
   "cell_type": "markdown",
   "id": "81fcab1b-f7a4-4e9f-9d33-a5299461b892",
   "metadata": {},
   "source": [
    "### Change the data type (dtype)"
   ]
  },
  {
   "cell_type": "code",
   "execution_count": 28,
   "id": "56f16b52-d40e-4ac9-8e5b-a59137f9b325",
   "metadata": {},
   "outputs": [
    {
     "name": "stdout",
     "output_type": "stream",
     "text": [
      "<class 'pandas.core.frame.DataFrame'>\n",
      "Index: 23084 entries, 0 to 27430\n",
      "Data columns (total 10 columns):\n",
      " #   Column          Non-Null Count  Dtype  \n",
      "---  ------          --------------  -----  \n",
      " 0   car_name        23084 non-null  object \n",
      " 1   year            23084 non-null  float64\n",
      " 2   price           23084 non-null  object \n",
      " 3   assemble_place  23084 non-null  object \n",
      " 4   series          23084 non-null  object \n",
      " 5   driven kms      23084 non-null  float64\n",
      " 6   num_of_door     23084 non-null  float64\n",
      " 7   num_of_seat     23084 non-null  float64\n",
      " 8   engine_type     23084 non-null  object \n",
      " 9   transmission    23084 non-null  object \n",
      "dtypes: float64(4), object(6)\n",
      "memory usage: 1.9+ MB\n"
     ]
    }
   ],
   "source": [
    "df.info()"
   ]
  },
  {
   "cell_type": "code",
   "execution_count": 29,
   "id": "31502ff1-72cf-46ce-b787-21aa1d0a8ea0",
   "metadata": {},
   "outputs": [],
   "source": [
    "# Change data dtype of columns(year,driven kms,num_of_door,num_of_seat) to int32\n",
    "df[['year','driven kms','num_of_door','num_of_seat']] = df[['year','driven kms','num_of_door','num_of_seat']].astype(np.int32)"
   ]
  },
  {
   "cell_type": "code",
   "execution_count": 30,
   "id": "07332ee9-50ac-44c2-80f2-34ef10dd78f3",
   "metadata": {},
   "outputs": [],
   "source": [
    "# Change data dtype of columns(transmission,engine_type,assemble_place ) to categorical\n",
    "col_category = ['transmission','engine_type','assemble_place']\n",
    "df[col_category] = df[col_category].astype('category')"
   ]
  },
  {
   "cell_type": "code",
   "execution_count": 31,
   "id": "8871d890-c133-4a81-ac5c-16df68b475ec",
   "metadata": {},
   "outputs": [
    {
     "name": "stdout",
     "output_type": "stream",
     "text": [
      "<class 'pandas.core.frame.DataFrame'>\n",
      "Index: 23084 entries, 0 to 27430\n",
      "Data columns (total 10 columns):\n",
      " #   Column          Non-Null Count  Dtype   \n",
      "---  ------          --------------  -----   \n",
      " 0   car_name        23084 non-null  object  \n",
      " 1   year            23084 non-null  int32   \n",
      " 2   price           23084 non-null  object  \n",
      " 3   assemble_place  23084 non-null  category\n",
      " 4   series          23084 non-null  object  \n",
      " 5   driven kms      23084 non-null  int32   \n",
      " 6   num_of_door     23084 non-null  int32   \n",
      " 7   num_of_seat     23084 non-null  int32   \n",
      " 8   engine_type     23084 non-null  category\n",
      " 9   transmission    23084 non-null  category\n",
      "dtypes: category(3), int32(4), object(3)\n",
      "memory usage: 1.1+ MB\n"
     ]
    }
   ],
   "source": [
    "df.info()"
   ]
  },
  {
   "cell_type": "markdown",
   "id": "49f13b60-1af8-4d97-9cc7-1380f1b68681",
   "metadata": {},
   "source": [
    "Why using Categorical Data Type and Int32 Data Type?\n",
    "- Memory Efficiency\n",
    "- Optimized processing"
   ]
  },
  {
   "cell_type": "markdown",
   "id": "05f3f0b8-71a0-48a9-9340-ca43c694e988",
   "metadata": {},
   "source": [
    "### Drop non-validation column ('num_of_door')"
   ]
  },
  {
   "cell_type": "code",
   "execution_count": 34,
   "id": "32488039-c5e2-4af0-b3d0-0a612fbf079e",
   "metadata": {},
   "outputs": [
    {
     "data": {
      "text/plain": [
       "array([ 5,  4,  2,  1,  3,  6, 45, 54, 50,  7])"
      ]
     },
     "execution_count": 34,
     "metadata": {},
     "output_type": "execute_result"
    }
   ],
   "source": [
    "df['num_of_door'].unique()"
   ]
  },
  {
   "cell_type": "markdown",
   "id": "3634e1c1-45e1-4d8e-bd0f-26b15d54a889",
   "metadata": {},
   "source": [
    "There are no cars with 45,50,54,6,7 doors."
   ]
  },
  {
   "cell_type": "code",
   "execution_count": 36,
   "id": "79e7c4b9-0612-4d70-b340-06c5c56105ef",
   "metadata": {},
   "outputs": [],
   "source": [
    "df = df.drop(['num_of_door'],axis = 1)"
   ]
  },
  {
   "cell_type": "markdown",
   "id": "60e133da-7057-41e4-a872-edb56477461e",
   "metadata": {},
   "source": [
    "### Currency value parsing and conversion for `price` column"
   ]
  },
  {
   "cell_type": "code",
   "execution_count": 38,
   "id": "3f77f7a0-51e3-4169-a933-51e6fba580bf",
   "metadata": {},
   "outputs": [],
   "source": [
    "def process_price(price):\n",
    "    try:\n",
    "        if price.find('Tỷ') != -1:\n",
    "            ty= price.split('Tỷ')[0]\n",
    "            trieu = price.split('Tỷ')[1]\n",
    "            trieu = trieu.split('Triệu')[0]\n",
    "            return float(ty)*1000000000 + float(trieu)*1000000\n",
    "        elif price.find('Triệu') != -1:\n",
    "            trieu = price.split('Triệu')[0]\n",
    "            trieu = trieu.replace(' ','')\n",
    "            return float(trieu)*1000000\n",
    "        else:\n",
    "            return 0\n",
    "    except:\n",
    "        return 0\n",
    "df['price'] = df['price'].astype(str).apply(process_price)"
   ]
  },
  {
   "cell_type": "code",
   "execution_count": 39,
   "id": "67c3aa97-1bcd-4108-86d2-9fb66aced040",
   "metadata": {},
   "outputs": [
    {
     "data": {
      "text/html": [
       "<div>\n",
       "<style scoped>\n",
       "    .dataframe tbody tr th:only-of-type {\n",
       "        vertical-align: middle;\n",
       "    }\n",
       "\n",
       "    .dataframe tbody tr th {\n",
       "        vertical-align: top;\n",
       "    }\n",
       "\n",
       "    .dataframe thead th {\n",
       "        text-align: right;\n",
       "    }\n",
       "</style>\n",
       "<table border=\"1\" class=\"dataframe\">\n",
       "  <thead>\n",
       "    <tr style=\"text-align: right;\">\n",
       "      <th></th>\n",
       "      <th>car_name</th>\n",
       "      <th>year</th>\n",
       "      <th>price</th>\n",
       "      <th>assemble_place</th>\n",
       "      <th>series</th>\n",
       "      <th>driven kms</th>\n",
       "      <th>num_of_seat</th>\n",
       "      <th>engine_type</th>\n",
       "      <th>transmission</th>\n",
       "    </tr>\n",
       "  </thead>\n",
       "  <tbody>\n",
       "    <tr>\n",
       "      <th>0</th>\n",
       "      <td>LandRover Range Rover HSE 3.0</td>\n",
       "      <td>2015</td>\n",
       "      <td>2.700000e+09</td>\n",
       "      <td>Imported</td>\n",
       "      <td>SUV</td>\n",
       "      <td>65000</td>\n",
       "      <td>5</td>\n",
       "      <td>Petrol</td>\n",
       "      <td>Automatic</td>\n",
       "    </tr>\n",
       "    <tr>\n",
       "      <th>1</th>\n",
       "      <td>Mitsubishi Outlander 2.0 CVT Premium</td>\n",
       "      <td>2018</td>\n",
       "      <td>6.660000e+08</td>\n",
       "      <td>Locally assembled</td>\n",
       "      <td>SUV</td>\n",
       "      <td>50000</td>\n",
       "      <td>7</td>\n",
       "      <td>Petrol</td>\n",
       "      <td>Automatic</td>\n",
       "    </tr>\n",
       "    <tr>\n",
       "      <th>2</th>\n",
       "      <td>Mazda 3 1.5L Luxury</td>\n",
       "      <td>2019</td>\n",
       "      <td>4.900000e+08</td>\n",
       "      <td>Locally assembled</td>\n",
       "      <td>Sedan</td>\n",
       "      <td>51000</td>\n",
       "      <td>5</td>\n",
       "      <td>Petrol</td>\n",
       "      <td>Automatic</td>\n",
       "    </tr>\n",
       "  </tbody>\n",
       "</table>\n",
       "</div>"
      ],
      "text/plain": [
       "                                car_name  year         price  \\\n",
       "0          LandRover Range Rover HSE 3.0  2015  2.700000e+09   \n",
       "1   Mitsubishi Outlander 2.0 CVT Premium  2018  6.660000e+08   \n",
       "2                    Mazda 3 1.5L Luxury  2019  4.900000e+08   \n",
       "\n",
       "      assemble_place series  driven kms  num_of_seat engine_type transmission  \n",
       "0           Imported    SUV       65000            5      Petrol    Automatic  \n",
       "1  Locally assembled    SUV       50000            7      Petrol    Automatic  \n",
       "2  Locally assembled  Sedan       51000            5      Petrol    Automatic  "
      ]
     },
     "execution_count": 39,
     "metadata": {},
     "output_type": "execute_result"
    }
   ],
   "source": [
    "df.head(3)"
   ]
  },
  {
   "cell_type": "code",
   "execution_count": 40,
   "id": "b8f7db27-cab5-4e50-9745-a7f0a5992237",
   "metadata": {},
   "outputs": [],
   "source": [
    "# Convert currency values from VND to USD\n",
    "df['price'] = (df['price']/25355).round(0)"
   ]
  },
  {
   "cell_type": "code",
   "execution_count": 41,
   "id": "1f956a13-6006-4993-91b2-a3dcf951f066",
   "metadata": {},
   "outputs": [
    {
     "data": {
      "text/html": [
       "<div>\n",
       "<style scoped>\n",
       "    .dataframe tbody tr th:only-of-type {\n",
       "        vertical-align: middle;\n",
       "    }\n",
       "\n",
       "    .dataframe tbody tr th {\n",
       "        vertical-align: top;\n",
       "    }\n",
       "\n",
       "    .dataframe thead th {\n",
       "        text-align: right;\n",
       "    }\n",
       "</style>\n",
       "<table border=\"1\" class=\"dataframe\">\n",
       "  <thead>\n",
       "    <tr style=\"text-align: right;\">\n",
       "      <th></th>\n",
       "      <th>car_name</th>\n",
       "      <th>year</th>\n",
       "      <th>price</th>\n",
       "      <th>assemble_place</th>\n",
       "      <th>series</th>\n",
       "      <th>driven kms</th>\n",
       "      <th>num_of_seat</th>\n",
       "      <th>engine_type</th>\n",
       "      <th>transmission</th>\n",
       "    </tr>\n",
       "  </thead>\n",
       "  <tbody>\n",
       "    <tr>\n",
       "      <th>0</th>\n",
       "      <td>LandRover Range Rover HSE 3.0</td>\n",
       "      <td>2015</td>\n",
       "      <td>106488.0</td>\n",
       "      <td>Imported</td>\n",
       "      <td>SUV</td>\n",
       "      <td>65000</td>\n",
       "      <td>5</td>\n",
       "      <td>Petrol</td>\n",
       "      <td>Automatic</td>\n",
       "    </tr>\n",
       "    <tr>\n",
       "      <th>1</th>\n",
       "      <td>Mitsubishi Outlander 2.0 CVT Premium</td>\n",
       "      <td>2018</td>\n",
       "      <td>26267.0</td>\n",
       "      <td>Locally assembled</td>\n",
       "      <td>SUV</td>\n",
       "      <td>50000</td>\n",
       "      <td>7</td>\n",
       "      <td>Petrol</td>\n",
       "      <td>Automatic</td>\n",
       "    </tr>\n",
       "    <tr>\n",
       "      <th>2</th>\n",
       "      <td>Mazda 3 1.5L Luxury</td>\n",
       "      <td>2019</td>\n",
       "      <td>19326.0</td>\n",
       "      <td>Locally assembled</td>\n",
       "      <td>Sedan</td>\n",
       "      <td>51000</td>\n",
       "      <td>5</td>\n",
       "      <td>Petrol</td>\n",
       "      <td>Automatic</td>\n",
       "    </tr>\n",
       "  </tbody>\n",
       "</table>\n",
       "</div>"
      ],
      "text/plain": [
       "                                car_name  year     price     assemble_place  \\\n",
       "0          LandRover Range Rover HSE 3.0  2015  106488.0           Imported   \n",
       "1   Mitsubishi Outlander 2.0 CVT Premium  2018   26267.0  Locally assembled   \n",
       "2                    Mazda 3 1.5L Luxury  2019   19326.0  Locally assembled   \n",
       "\n",
       "  series  driven kms  num_of_seat engine_type transmission  \n",
       "0    SUV       65000            5      Petrol    Automatic  \n",
       "1    SUV       50000            7      Petrol    Automatic  \n",
       "2  Sedan       51000            5      Petrol    Automatic  "
      ]
     },
     "execution_count": 41,
     "metadata": {},
     "output_type": "execute_result"
    }
   ],
   "source": [
    "df.head(3)"
   ]
  },
  {
   "cell_type": "markdown",
   "id": "3ffb4a34-b9af-4d4c-a9cf-95b6a74c8e62",
   "metadata": {},
   "source": [
    "### Save as a new CSV file"
   ]
  },
  {
   "cell_type": "code",
   "execution_count": 68,
   "id": "fd61ce25-1e6f-4d89-9fe0-4366ff40fa7e",
   "metadata": {},
   "outputs": [],
   "source": [
    "df.to_csv('data_carVN_cleaned.csv',index = False)"
   ]
  }
 ],
 "metadata": {
  "kernelspec": {
   "display_name": "Python 3 (ipykernel)",
   "language": "python",
   "name": "python3"
  },
  "language_info": {
   "codemirror_mode": {
    "name": "ipython",
    "version": 3
   },
   "file_extension": ".py",
   "mimetype": "text/x-python",
   "name": "python",
   "nbconvert_exporter": "python",
   "pygments_lexer": "ipython3",
   "version": "3.11.7"
  }
 },
 "nbformat": 4,
 "nbformat_minor": 5
}
