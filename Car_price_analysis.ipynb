{
 "cells": [
  {
   "cell_type": "code",
   "execution_count": 20,
   "id": "2155e518-96c3-44ae-ba4d-cf9f32037a87",
   "metadata": {},
   "outputs": [],
   "source": [
    "#Import nessesarry libraries\n",
    "import pandas as pd\n",
    "import numpy as np\n",
    "import matplotlib.pyplot as plt\n",
    "import seaborn as sns"
   ]
  },
  {
   "cell_type": "code",
   "execution_count": 22,
   "id": "acfa54ca-59d4-4560-9d05-bbea45ce407f",
   "metadata": {},
   "outputs": [
    {
     "data": {
      "text/html": [
       "<div>\n",
       "<style scoped>\n",
       "    .dataframe tbody tr th:only-of-type {\n",
       "        vertical-align: middle;\n",
       "    }\n",
       "\n",
       "    .dataframe tbody tr th {\n",
       "        vertical-align: top;\n",
       "    }\n",
       "\n",
       "    .dataframe thead th {\n",
       "        text-align: right;\n",
       "    }\n",
       "</style>\n",
       "<table border=\"1\" class=\"dataframe\">\n",
       "  <thead>\n",
       "    <tr style=\"text-align: right;\">\n",
       "      <th></th>\n",
       "      <th>car_name</th>\n",
       "      <th>year</th>\n",
       "      <th>price</th>\n",
       "      <th>assemble_place</th>\n",
       "      <th>series</th>\n",
       "      <th>driven kms</th>\n",
       "      <th>num_of_seat</th>\n",
       "      <th>engine_type</th>\n",
       "      <th>transmission</th>\n",
       "    </tr>\n",
       "  </thead>\n",
       "  <tbody>\n",
       "    <tr>\n",
       "      <th>0</th>\n",
       "      <td>LandRover Range Rover HSE 3.0</td>\n",
       "      <td>2015</td>\n",
       "      <td>106488.0</td>\n",
       "      <td>Imported</td>\n",
       "      <td>SUV</td>\n",
       "      <td>65000</td>\n",
       "      <td>5</td>\n",
       "      <td>Petrol</td>\n",
       "      <td>Automatic</td>\n",
       "    </tr>\n",
       "    <tr>\n",
       "      <th>1</th>\n",
       "      <td>Mitsubishi Outlander 2.0 CVT Premium</td>\n",
       "      <td>2018</td>\n",
       "      <td>26267.0</td>\n",
       "      <td>Locally assembled</td>\n",
       "      <td>SUV</td>\n",
       "      <td>50000</td>\n",
       "      <td>7</td>\n",
       "      <td>Petrol</td>\n",
       "      <td>Automatic</td>\n",
       "    </tr>\n",
       "    <tr>\n",
       "      <th>2</th>\n",
       "      <td>Mazda 3 1.5L Luxury</td>\n",
       "      <td>2019</td>\n",
       "      <td>19326.0</td>\n",
       "      <td>Locally assembled</td>\n",
       "      <td>Sedan</td>\n",
       "      <td>51000</td>\n",
       "      <td>5</td>\n",
       "      <td>Petrol</td>\n",
       "      <td>Automatic</td>\n",
       "    </tr>\n",
       "  </tbody>\n",
       "</table>\n",
       "</div>"
      ],
      "text/plain": [
       "                                car_name  year     price     assemble_place  \\\n",
       "0          LandRover Range Rover HSE 3.0  2015  106488.0           Imported   \n",
       "1   Mitsubishi Outlander 2.0 CVT Premium  2018   26267.0  Locally assembled   \n",
       "2                    Mazda 3 1.5L Luxury  2019   19326.0  Locally assembled   \n",
       "\n",
       "  series  driven kms  num_of_seat engine_type transmission  \n",
       "0    SUV       65000            5      Petrol    Automatic  \n",
       "1    SUV       50000            7      Petrol    Automatic  \n",
       "2  Sedan       51000            5      Petrol    Automatic  "
      ]
     },
     "execution_count": 22,
     "metadata": {},
     "output_type": "execute_result"
    }
   ],
   "source": [
    "# Load dataset\n",
    "df = pd.read_csv('data_carVN_cleaned.csv')\n",
    "df.head(3)"
   ]
  },
  {
   "cell_type": "markdown",
   "id": "4ec4623c-4549-46b5-bcbb-9cfcb32d3568",
   "metadata": {},
   "source": [
    "## Exploratory Data Analysis (EDA)"
   ]
  },
  {
   "cell_type": "markdown",
   "id": "2c4f7c17-d050-453e-828f-d346982b4cd8",
   "metadata": {
    "jp-MarkdownHeadingCollapsed": true
   },
   "source": [
    "### **1.** Show the top 10 most expensive cars"
   ]
  },
  {
   "cell_type": "code",
   "execution_count": 24,
   "id": "095c898c-534d-4b8e-9341-fa0eca3c8c5d",
   "metadata": {},
   "outputs": [
    {
     "data": {
      "text/html": [
       "<div>\n",
       "<style scoped>\n",
       "    .dataframe tbody tr th:only-of-type {\n",
       "        vertical-align: middle;\n",
       "    }\n",
       "\n",
       "    .dataframe tbody tr th {\n",
       "        vertical-align: top;\n",
       "    }\n",
       "\n",
       "    .dataframe thead th {\n",
       "        text-align: right;\n",
       "    }\n",
       "</style>\n",
       "<table border=\"1\" class=\"dataframe\">\n",
       "  <thead>\n",
       "    <tr style=\"text-align: right;\">\n",
       "      <th></th>\n",
       "      <th>car_name</th>\n",
       "      <th>year</th>\n",
       "      <th>price</th>\n",
       "      <th>assemble_place</th>\n",
       "      <th>series</th>\n",
       "      <th>driven kms</th>\n",
       "      <th>num_of_seat</th>\n",
       "      <th>engine_type</th>\n",
       "      <th>transmission</th>\n",
       "    </tr>\n",
       "  </thead>\n",
       "  <tbody>\n",
       "    <tr>\n",
       "      <th>16817</th>\n",
       "      <td>Rolls Royce Ghost Series II EWB</td>\n",
       "      <td>2021</td>\n",
       "      <td>1522382.0</td>\n",
       "      <td>Imported</td>\n",
       "      <td>Sedan</td>\n",
       "      <td>6200</td>\n",
       "      <td>4</td>\n",
       "      <td>Petrol</td>\n",
       "      <td>Automatic</td>\n",
       "    </tr>\n",
       "    <tr>\n",
       "      <th>8909</th>\n",
       "      <td>Rolls Royce Ghost Series II EWB</td>\n",
       "      <td>2021</td>\n",
       "      <td>1451390.0</td>\n",
       "      <td>Imported</td>\n",
       "      <td>Sedan</td>\n",
       "      <td>5500</td>\n",
       "      <td>4</td>\n",
       "      <td>Petrol</td>\n",
       "      <td>Automatic</td>\n",
       "    </tr>\n",
       "    <tr>\n",
       "      <th>16041</th>\n",
       "      <td>Rolls Royce Cullinan 6.75 V12</td>\n",
       "      <td>2018</td>\n",
       "      <td>1451390.0</td>\n",
       "      <td>Imported</td>\n",
       "      <td>SUV</td>\n",
       "      <td>4000</td>\n",
       "      <td>4</td>\n",
       "      <td>Petrol</td>\n",
       "      <td>Automatic</td>\n",
       "    </tr>\n",
       "    <tr>\n",
       "      <th>19648</th>\n",
       "      <td>Rolls Royce Ghost Series II EWB</td>\n",
       "      <td>2021</td>\n",
       "      <td>1451390.0</td>\n",
       "      <td>Imported</td>\n",
       "      <td>Sedan</td>\n",
       "      <td>7000</td>\n",
       "      <td>4</td>\n",
       "      <td>Petrol</td>\n",
       "      <td>Automatic</td>\n",
       "    </tr>\n",
       "    <tr>\n",
       "      <th>16983</th>\n",
       "      <td>Rolls Royce Cullinan 6.75 V12</td>\n",
       "      <td>2019</td>\n",
       "      <td>1312877.0</td>\n",
       "      <td>Imported</td>\n",
       "      <td>SUV</td>\n",
       "      <td>20000</td>\n",
       "      <td>4</td>\n",
       "      <td>Petrol</td>\n",
       "      <td>Automatic</td>\n",
       "    </tr>\n",
       "    <tr>\n",
       "      <th>20803</th>\n",
       "      <td>Bentley Mulsanne 6.8 V8</td>\n",
       "      <td>2020</td>\n",
       "      <td>1163479.0</td>\n",
       "      <td>Imported</td>\n",
       "      <td>Sedan</td>\n",
       "      <td>7000</td>\n",
       "      <td>4</td>\n",
       "      <td>Petrol</td>\n",
       "      <td>Automatic</td>\n",
       "    </tr>\n",
       "    <tr>\n",
       "      <th>15100</th>\n",
       "      <td>Rolls Royce Cullinan Black Badge 6.75 V12</td>\n",
       "      <td>2022</td>\n",
       "      <td>1005719.0</td>\n",
       "      <td>Imported</td>\n",
       "      <td>SUV</td>\n",
       "      <td>300</td>\n",
       "      <td>4</td>\n",
       "      <td>Petrol</td>\n",
       "      <td>Automatic</td>\n",
       "    </tr>\n",
       "    <tr>\n",
       "      <th>6469</th>\n",
       "      <td>Rolls Royce Cullinan Black Badge 6.75 V12</td>\n",
       "      <td>2021</td>\n",
       "      <td>887399.0</td>\n",
       "      <td>Imported</td>\n",
       "      <td>SUV</td>\n",
       "      <td>1500</td>\n",
       "      <td>4</td>\n",
       "      <td>Petrol</td>\n",
       "      <td>Automatic</td>\n",
       "    </tr>\n",
       "    <tr>\n",
       "      <th>18657</th>\n",
       "      <td>Rolls Royce Phantom EWB</td>\n",
       "      <td>2012</td>\n",
       "      <td>784855.0</td>\n",
       "      <td>Imported</td>\n",
       "      <td>Sedan</td>\n",
       "      <td>14000</td>\n",
       "      <td>4</td>\n",
       "      <td>Petrol</td>\n",
       "      <td>Automatic</td>\n",
       "    </tr>\n",
       "    <tr>\n",
       "      <th>20999</th>\n",
       "      <td>Bentley Flying Spur First Edition V8</td>\n",
       "      <td>2021</td>\n",
       "      <td>780911.0</td>\n",
       "      <td>Imported</td>\n",
       "      <td>Sedan</td>\n",
       "      <td>200</td>\n",
       "      <td>5</td>\n",
       "      <td>Petrol</td>\n",
       "      <td>Automatic</td>\n",
       "    </tr>\n",
       "  </tbody>\n",
       "</table>\n",
       "</div>"
      ],
      "text/plain": [
       "                                         car_name  year      price  \\\n",
       "16817             Rolls Royce Ghost Series II EWB  2021  1522382.0   \n",
       "8909              Rolls Royce Ghost Series II EWB  2021  1451390.0   \n",
       "16041               Rolls Royce Cullinan 6.75 V12  2018  1451390.0   \n",
       "19648             Rolls Royce Ghost Series II EWB  2021  1451390.0   \n",
       "16983               Rolls Royce Cullinan 6.75 V12  2019  1312877.0   \n",
       "20803                     Bentley Mulsanne 6.8 V8  2020  1163479.0   \n",
       "15100   Rolls Royce Cullinan Black Badge 6.75 V12  2022  1005719.0   \n",
       "6469    Rolls Royce Cullinan Black Badge 6.75 V12  2021   887399.0   \n",
       "18657                     Rolls Royce Phantom EWB  2012   784855.0   \n",
       "20999        Bentley Flying Spur First Edition V8  2021   780911.0   \n",
       "\n",
       "      assemble_place series  driven kms  num_of_seat engine_type transmission  \n",
       "16817       Imported  Sedan        6200            4      Petrol    Automatic  \n",
       "8909        Imported  Sedan        5500            4      Petrol    Automatic  \n",
       "16041       Imported    SUV        4000            4      Petrol    Automatic  \n",
       "19648       Imported  Sedan        7000            4      Petrol    Automatic  \n",
       "16983       Imported    SUV       20000            4      Petrol    Automatic  \n",
       "20803       Imported  Sedan        7000            4      Petrol    Automatic  \n",
       "15100       Imported    SUV         300            4      Petrol    Automatic  \n",
       "6469        Imported    SUV        1500            4      Petrol    Automatic  \n",
       "18657       Imported  Sedan       14000            4      Petrol    Automatic  \n",
       "20999       Imported  Sedan         200            5      Petrol    Automatic  "
      ]
     },
     "execution_count": 24,
     "metadata": {},
     "output_type": "execute_result"
    }
   ],
   "source": [
    "top_10 = df.nlargest(10, 'price')\n",
    "top_10"
   ]
  },
  {
   "cell_type": "markdown",
   "id": "cc468db9-0276-4577-8fd8-5a721a72ee36",
   "metadata": {
    "jp-MarkdownHeadingCollapsed": true
   },
   "source": [
    "### **2.** Comparison of the mean price between Imported cars and Locally assembled cars"
   ]
  },
  {
   "cell_type": "code",
   "execution_count": 71,
   "id": "84a2e5db-b80d-443b-8e5c-df1bd78a4047",
   "metadata": {},
   "outputs": [
    {
     "data": {
      "text/html": [
       "<div>\n",
       "<style scoped>\n",
       "    .dataframe tbody tr th:only-of-type {\n",
       "        vertical-align: middle;\n",
       "    }\n",
       "\n",
       "    .dataframe tbody tr th {\n",
       "        vertical-align: top;\n",
       "    }\n",
       "\n",
       "    .dataframe thead th {\n",
       "        text-align: right;\n",
       "    }\n",
       "</style>\n",
       "<table border=\"1\" class=\"dataframe\">\n",
       "  <thead>\n",
       "    <tr style=\"text-align: right;\">\n",
       "      <th></th>\n",
       "      <th>assemble_place</th>\n",
       "      <th>price</th>\n",
       "    </tr>\n",
       "  </thead>\n",
       "  <tbody>\n",
       "    <tr>\n",
       "      <th>0</th>\n",
       "      <td>Imported</td>\n",
       "      <td>62096.394894</td>\n",
       "    </tr>\n",
       "    <tr>\n",
       "      <th>1</th>\n",
       "      <td>Locally assembled</td>\n",
       "      <td>26028.779774</td>\n",
       "    </tr>\n",
       "  </tbody>\n",
       "</table>\n",
       "</div>"
      ],
      "text/plain": [
       "      assemble_place         price\n",
       "0           Imported  62096.394894\n",
       "1  Locally assembled  26028.779774"
      ]
     },
     "execution_count": 71,
     "metadata": {},
     "output_type": "execute_result"
    }
   ],
   "source": [
    "df2 = df.groupby('assemble_place')['price'].mean().reset_index()\n",
    "df2"
   ]
  },
  {
   "cell_type": "markdown",
   "id": "2e87cd37-aa24-482f-9109-f6f9d2980752",
   "metadata": {},
   "source": [
    "Thus, we can conclude that imported cars have a higher average price than locally assembled cars."
   ]
  },
  {
   "cell_type": "code",
   "execution_count": 93,
   "id": "83f4a3eb-b68d-4d18-9866-f026cba921cf",
   "metadata": {},
   "outputs": [
    {
     "data": {
      "image/png": "[encoded data removed]",
      "text/plain": [
       "<Figure size 800x500 with 1 Axes>"
      ]
     },
     "metadata": {},
     "output_type": "display_data"
    }
   ],
   "source": [
    "#Data visualization\n",
    "custom = {\"axes.edgecolor\": \"yellow\", \"grid.linestyle\": \"-\", \"grid.color\": \"white\"}\n",
    "sns.set_style(\"darkgrid\", rc = custom)\n",
    "PALETTE = sns.color_palette(\"Set1\", 2) \n",
    "plt.rcParams[\"figure.figsize\"] = (8,5) \n",
    "#Plot\n",
    "ax = sns.barplot(data = df2, x = 'assemble_place',y= 'price',hue = 'assemble_place',palette = PALETTE);\n",
    "ax.set_xlabel(\"Assemble Place\")\n",
    "ax.set_ylabel(\"Price ($)\")\n",
    "ax.set_title(\"The mean prices of Imported cars and Locally assembled cars\",fontsize=14,fontweight=\"bold\",color=\"green\")\n",
    "for container in ax.containers:\n",
    "    ax.bar_label(container, fmt='%.2f', fontsize=10, label_type='edge')\n",
    "\n"
   ]
  },
  {
   "cell_type": "markdown",
   "id": "570a1769-70b9-4039-9ff2-00130745f803",
   "metadata": {
    "jp-MarkdownHeadingCollapsed": true
   },
   "source": [
    "### **3.** Average car price by year"
   ]
  },
  {
   "cell_type": "code",
   "execution_count": 133,
   "id": "134d3c98-01e0-4530-b2fa-fa4ff335bcf2",
   "metadata": {},
   "outputs": [
    {
     "data": {
      "text/html": [
       "<div>\n",
       "<style scoped>\n",
       "    .dataframe tbody tr th:only-of-type {\n",
       "        vertical-align: middle;\n",
       "    }\n",
       "\n",
       "    .dataframe tbody tr th {\n",
       "        vertical-align: top;\n",
       "    }\n",
       "\n",
       "    .dataframe thead th {\n",
       "        text-align: right;\n",
       "    }\n",
       "</style>\n",
       "<table border=\"1\" class=\"dataframe\">\n",
       "  <thead>\n",
       "    <tr style=\"text-align: right;\">\n",
       "      <th></th>\n",
       "      <th>year</th>\n",
       "      <th>price</th>\n",
       "    </tr>\n",
       "  </thead>\n",
       "  <tbody>\n",
       "    <tr>\n",
       "      <th>0</th>\n",
       "      <td>1990</td>\n",
       "      <td>6207.960000</td>\n",
       "    </tr>\n",
       "    <tr>\n",
       "      <th>1</th>\n",
       "      <td>1991</td>\n",
       "      <td>6698.166667</td>\n",
       "    </tr>\n",
       "    <tr>\n",
       "      <th>2</th>\n",
       "      <td>1992</td>\n",
       "      <td>5071.416667</td>\n",
       "    </tr>\n",
       "  </tbody>\n",
       "</table>\n",
       "</div>"
      ],
      "text/plain": [
       "   year        price\n",
       "0  1990  6207.960000\n",
       "1  1991  6698.166667\n",
       "2  1992  5071.416667"
      ]
     },
     "execution_count": 133,
     "metadata": {},
     "output_type": "execute_result"
    }
   ],
   "source": [
    "df3 = df.groupby('year')['price'].mean().reset_index()\n",
    "df3.head(3)"
   ]
  },
  {
   "cell_type": "code",
   "execution_count": 130,
   "id": "d5df4c8f-3ce0-4478-b9f4-5ccb29d28d11",
   "metadata": {},
   "outputs": [
    {
     "data": {
      "image/png": "[encoded data removed]",
      "text/plain": [
       "<Figure size 800x500 with 1 Axes>"
      ]
     },
     "metadata": {},
     "output_type": "display_data"
    }
   ],
   "source": [
    "#Data Visualization\n",
    "ax = sns.lineplot(data =df,x ='year',y='price',estimator = np.mean,hue ='assemble_place', errorbar=None );\n",
    "ax.set_xlabel(\"Year\")\n",
    "ax.set_ylabel(\"Price ($)\")\n",
    "ax.set_title(\"Average car price by year\",fontsize=14,fontweight=\"bold\",color=\"green\");"
   ]
  },
  {
   "cell_type": "markdown",
   "id": "ff5f3f3e-bff2-4cb7-bb0a-6b89cf98a368",
   "metadata": {},
   "source": [
    "The line plot depicts the average car prices over the years, comparing imported cars with locally assembled car\n",
    "- It is evident that the prices of imported cars have consistently been higher than those of locally assembled cars.\n",
    "- There is a significant spike in the price of imported cars around the year 2000, while locally assembled cars show a more gradual and steady increase in price over time.\n",
    "- The overall trend indicates that both imported and locally assembled car prices have risen."
   ]
  },
  {
   "cell_type": "markdown",
   "id": "0db774f6-c912-4e6b-b0ed-728703c91d8c",
   "metadata": {
    "jp-MarkdownHeadingCollapsed": true
   },
   "source": [
    "### **4.** Correlation Matrix"
   ]
  },
  {
   "cell_type": "code",
   "execution_count": 137,
   "id": "b28b81b1-d43e-46f1-80e1-768bcb97304c",
   "metadata": {},
   "outputs": [],
   "source": [
    "#Label encode column ['assemble_place','transmission']\n",
    "from sklearn.preprocessing import LabelEncoder\n",
    "le = LabelEncoder()\n",
    "df['assemble_place'] = le.fit_transform(df['assemble_place'])\n",
    "df['transmission'] = le.fit_transform(df['transmission'])"
   ]
  },
  {
   "cell_type": "code",
   "execution_count": 139,
   "id": "b982ce67-eef7-440f-9e52-2188be881684",
   "metadata": {},
   "outputs": [
    {
     "data": {
      "text/html": [
       "<div>\n",
       "<style scoped>\n",
       "    .dataframe tbody tr th:only-of-type {\n",
       "        vertical-align: middle;\n",
       "    }\n",
       "\n",
       "    .dataframe tbody tr th {\n",
       "        vertical-align: top;\n",
       "    }\n",
       "\n",
       "    .dataframe thead th {\n",
       "        text-align: right;\n",
       "    }\n",
       "</style>\n",
       "<table border=\"1\" class=\"dataframe\">\n",
       "  <thead>\n",
       "    <tr style=\"text-align: right;\">\n",
       "      <th></th>\n",
       "      <th>car_name</th>\n",
       "      <th>year</th>\n",
       "      <th>price</th>\n",
       "      <th>assemble_place</th>\n",
       "      <th>series</th>\n",
       "      <th>driven kms</th>\n",
       "      <th>num_of_seat</th>\n",
       "      <th>engine_type</th>\n",
       "      <th>transmission</th>\n",
       "    </tr>\n",
       "  </thead>\n",
       "  <tbody>\n",
       "    <tr>\n",
       "      <th>0</th>\n",
       "      <td>LandRover Range Rover HSE 3.0</td>\n",
       "      <td>2015</td>\n",
       "      <td>106488.0</td>\n",
       "      <td>0</td>\n",
       "      <td>SUV</td>\n",
       "      <td>65000</td>\n",
       "      <td>5</td>\n",
       "      <td>Petrol</td>\n",
       "      <td>0</td>\n",
       "    </tr>\n",
       "    <tr>\n",
       "      <th>1</th>\n",
       "      <td>Mitsubishi Outlander 2.0 CVT Premium</td>\n",
       "      <td>2018</td>\n",
       "      <td>26267.0</td>\n",
       "      <td>1</td>\n",
       "      <td>SUV</td>\n",
       "      <td>50000</td>\n",
       "      <td>7</td>\n",
       "      <td>Petrol</td>\n",
       "      <td>0</td>\n",
       "    </tr>\n",
       "    <tr>\n",
       "      <th>2</th>\n",
       "      <td>Mazda 3 1.5L Luxury</td>\n",
       "      <td>2019</td>\n",
       "      <td>19326.0</td>\n",
       "      <td>1</td>\n",
       "      <td>Sedan</td>\n",
       "      <td>51000</td>\n",
       "      <td>5</td>\n",
       "      <td>Petrol</td>\n",
       "      <td>0</td>\n",
       "    </tr>\n",
       "    <tr>\n",
       "      <th>3</th>\n",
       "      <td>Mazda 2 1.5 AT</td>\n",
       "      <td>2015</td>\n",
       "      <td>14396.0</td>\n",
       "      <td>1</td>\n",
       "      <td>Sedan</td>\n",
       "      <td>38000</td>\n",
       "      <td>5</td>\n",
       "      <td>Petrol</td>\n",
       "      <td>0</td>\n",
       "    </tr>\n",
       "    <tr>\n",
       "      <th>4</th>\n",
       "      <td>Suzuki Swift GLX 1.2 AT</td>\n",
       "      <td>2021</td>\n",
       "      <td>22284.0</td>\n",
       "      <td>0</td>\n",
       "      <td>Hatchback</td>\n",
       "      <td>6000</td>\n",
       "      <td>5</td>\n",
       "      <td>Petrol</td>\n",
       "      <td>0</td>\n",
       "    </tr>\n",
       "  </tbody>\n",
       "</table>\n",
       "</div>"
      ],
      "text/plain": [
       "                                car_name  year     price  assemble_place  \\\n",
       "0          LandRover Range Rover HSE 3.0  2015  106488.0               0   \n",
       "1   Mitsubishi Outlander 2.0 CVT Premium  2018   26267.0               1   \n",
       "2                    Mazda 3 1.5L Luxury  2019   19326.0               1   \n",
       "3                         Mazda 2 1.5 AT  2015   14396.0               1   \n",
       "4                Suzuki Swift GLX 1.2 AT  2021   22284.0               0   \n",
       "\n",
       "      series  driven kms  num_of_seat engine_type  transmission  \n",
       "0        SUV       65000            5      Petrol             0  \n",
       "1        SUV       50000            7      Petrol             0  \n",
       "2      Sedan       51000            5      Petrol             0  \n",
       "3      Sedan       38000            5      Petrol             0  \n",
       "4  Hatchback        6000            5      Petrol             0  "
      ]
     },
     "execution_count": 139,
     "metadata": {},
     "output_type": "execute_result"
    }
   ],
   "source": [
    "df.head()"
   ]
  },
  {
   "cell_type": "code",
   "execution_count": 141,
   "id": "05119468-ba47-4304-8839-c3696f747f85",
   "metadata": {},
   "outputs": [],
   "source": [
    "# Drop unnecessarry columns to create a correlation matrix\n",
    "drop_field = ['car_name','series','engine_type']\n",
    "df = df.drop(drop_field,axis = 1 )"
   ]
  },
  {
   "cell_type": "code",
   "execution_count": 149,
   "id": "1b3b4774-000a-4213-8ffc-b348862637f9",
   "metadata": {},
   "outputs": [
    {
     "data": {
      "text/html": [
       "<div>\n",
       "<style scoped>\n",
       "    .dataframe tbody tr th:only-of-type {\n",
       "        vertical-align: middle;\n",
       "    }\n",
       "\n",
       "    .dataframe tbody tr th {\n",
       "        vertical-align: top;\n",
       "    }\n",
       "\n",
       "    .dataframe thead th {\n",
       "        text-align: right;\n",
       "    }\n",
       "</style>\n",
       "<table border=\"1\" class=\"dataframe\">\n",
       "  <thead>\n",
       "    <tr style=\"text-align: right;\">\n",
       "      <th></th>\n",
       "      <th>year</th>\n",
       "      <th>price</th>\n",
       "      <th>assemble_place</th>\n",
       "      <th>driven kms</th>\n",
       "      <th>num_of_seat</th>\n",
       "      <th>transmission</th>\n",
       "    </tr>\n",
       "  </thead>\n",
       "  <tbody>\n",
       "    <tr>\n",
       "      <th>year</th>\n",
       "      <td>1.000000</td>\n",
       "      <td>0.218698</td>\n",
       "      <td>0.101762</td>\n",
       "      <td>0.002423</td>\n",
       "      <td>-0.057206</td>\n",
       "      <td>-0.323759</td>\n",
       "    </tr>\n",
       "    <tr>\n",
       "      <th>price</th>\n",
       "      <td>0.218698</td>\n",
       "      <td>1.000000</td>\n",
       "      <td>-0.274075</td>\n",
       "      <td>-0.012441</td>\n",
       "      <td>-0.029367</td>\n",
       "      <td>-0.191218</td>\n",
       "    </tr>\n",
       "    <tr>\n",
       "      <th>assemble_place</th>\n",
       "      <td>0.101762</td>\n",
       "      <td>-0.274075</td>\n",
       "      <td>1.000000</td>\n",
       "      <td>0.002631</td>\n",
       "      <td>0.034399</td>\n",
       "      <td>0.131164</td>\n",
       "    </tr>\n",
       "    <tr>\n",
       "      <th>driven kms</th>\n",
       "      <td>0.002423</td>\n",
       "      <td>-0.012441</td>\n",
       "      <td>0.002631</td>\n",
       "      <td>1.000000</td>\n",
       "      <td>0.013372</td>\n",
       "      <td>0.000115</td>\n",
       "    </tr>\n",
       "    <tr>\n",
       "      <th>num_of_seat</th>\n",
       "      <td>-0.057206</td>\n",
       "      <td>-0.029367</td>\n",
       "      <td>0.034399</td>\n",
       "      <td>0.013372</td>\n",
       "      <td>1.000000</td>\n",
       "      <td>0.169338</td>\n",
       "    </tr>\n",
       "    <tr>\n",
       "      <th>transmission</th>\n",
       "      <td>-0.323759</td>\n",
       "      <td>-0.191218</td>\n",
       "      <td>0.131164</td>\n",
       "      <td>0.000115</td>\n",
       "      <td>0.169338</td>\n",
       "      <td>1.000000</td>\n",
       "    </tr>\n",
       "  </tbody>\n",
       "</table>\n",
       "</div>"
      ],
      "text/plain": [
       "                    year     price  assemble_place  driven kms  num_of_seat  \\\n",
       "year            1.000000  0.218698        0.101762    0.002423    -0.057206   \n",
       "price           0.218698  1.000000       -0.274075   -0.012441    -0.029367   \n",
       "assemble_place  0.101762 -0.274075        1.000000    0.002631     0.034399   \n",
       "driven kms      0.002423 -0.012441        0.002631    1.000000     0.013372   \n",
       "num_of_seat    -0.057206 -0.029367        0.034399    0.013372     1.000000   \n",
       "transmission   -0.323759 -0.191218        0.131164    0.000115     0.169338   \n",
       "\n",
       "                transmission  \n",
       "year               -0.323759  \n",
       "price              -0.191218  \n",
       "assemble_place      0.131164  \n",
       "driven kms          0.000115  \n",
       "num_of_seat         0.169338  \n",
       "transmission        1.000000  "
      ]
     },
     "execution_count": 149,
     "metadata": {},
     "output_type": "execute_result"
    }
   ],
   "source": [
    "# Correlation Matrix\n",
    "corr = df.corr()\n",
    "corr"
   ]
  },
  {
   "cell_type": "code",
   "execution_count": 155,
   "id": "86346cbf-18ba-45cf-b95c-478e2da959c7",
   "metadata": {},
   "outputs": [
    {
     "data": {
      "text/plain": [
       "array([[False,  True,  True,  True,  True],\n",
       "       [False, False,  True,  True,  True],\n",
       "       [False, False, False,  True,  True],\n",
       "       [False, False, False, False,  True],\n",
       "       [False, False, False, False, False]])"
      ]
     },
     "execution_count": 155,
     "metadata": {},
     "output_type": "execute_result"
    }
   ],
   "source": [
    "corr_new=corr.iloc[1:,:-1]\n",
    "# Making mask for heatmap\n",
    "mask =np.triu(np.ones_like(corr,dtype=bool))\n",
    "mask = mask[1:,:-1]\n",
    "mask"
   ]
  },
  {
   "cell_type": "code",
   "execution_count": 185,
   "id": "ed635341-9043-4d5c-a9d8-86d64ce4a502",
   "metadata": {},
   "outputs": [
    {
     "data": {
      "image/png": "[encoded data removed]",
      "text/plain": [
       "<Figure size 800x600 with 2 Axes>"
      ]
     },
     "metadata": {},
     "output_type": "display_data"
    }
   ],
   "source": [
    "#Plot\n",
    "custom = {\"axes.edgecolor\": \"yellow\", \"grid.linestyle\": \"\", \"grid.color\": \"yellow\"}\n",
    "sns.set_style(\"darkgrid\", rc = custom)\n",
    "plt.rcParams[\"figure.figsize\"] = (8,6)\n",
    "cmap =sns.diverging_palette(240, 10, as_cmap=True)                      \n",
    "\n",
    "ax = sns.heatmap(data=corr_new,mask=mask,annot=True,\n",
    "                     cmap=cmap,vmin=-0.4,vmax=0.4,\n",
    "                        linecolor=\"white\",lw=0.75,fmt=\".2f\",);\n",
    "yticks=[i.upper() for i in corr_new.index]\n",
    "xticks=[i.upper() for i in corr_new.columns]\n",
    "ax.set_yticklabels(yticks,rotation = 0);\n",
    "ax.set_xticklabels(xticks,rotation = 90);\n",
    "title = \"CORRELATION MATRIX\"\n",
    "ax.set_title(title,loc=\"left\",fontweight=\"bold\",fontsize=18);"
   ]
  },
  {
   "cell_type": "markdown",
   "id": "3087de9e-2310-49d1-bb9a-dc6a66b1521b",
   "metadata": {},
   "source": [
    "The correlation matrix heatmap shows the relationships between various variables in the dataset. Here are some key observations:\n",
    "- Price has a moderate positive correlation with Year (0.22) and a slight negative correlation with Transmission (-0.19).\n",
    "- Assemble Place is negatively correlated with Year (-0.27) and slightly positively correlated with Price (0.10).\n",
    "- Transmission has a moderate negative correlation with Year (-0.32) and a slight positive correlation with Number of Seats (0.17).\n",
    "- Driven Kilometers shows almost no correlation with any other variables.\n",
    "- Number of Seats has minimal correlations with other variables, indicating it doesn't vary significantly with the other features.\n",
    "- **Overall, the heatmap indicates that while some variables have moderate correlations, many of the relationships are weak or negligible.**"
   ]
  }
 ],
 "metadata": {
  "kernelspec": {
   "display_name": "Python 3 (ipykernel)",
   "language": "python",
   "name": "python3"
  },
  "language_info": {
   "codemirror_mode": {
    "name": "ipython",
    "version": 3
   },
   "file_extension": ".py",
   "mimetype": "text/x-python",
   "name": "python",
   "nbconvert_exporter": "python",
   "pygments_lexer": "ipython3",
   "version": "3.11.7"
  }
 },
 "nbformat": 4,
 "nbformat_minor": 5
}
